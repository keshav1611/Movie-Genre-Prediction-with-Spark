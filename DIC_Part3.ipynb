{
  "nbformat": 4,
  "nbformat_minor": 0,
  "metadata": {
    "colab": {
      "name": "word2vec.ipynb",
      "provenance": [],
      "collapsed_sections": []
    },
    "kernelspec": {
      "name": "python3",
      "display_name": "Python 3"
    },
    "accelerator": "GPU"
  },
  "cells": [
    {
      "cell_type": "code",
      "metadata": {
        "id": "XVGK4uAGz9AJ",
        "colab_type": "code",
        "colab": {}
      },
      "source": [
        "# !apt-get install openjdk-8-jdk-headless -qq > /dev/null\n",
        "# !wget -q http://us.mirrors.quenda.co/apache/spark/spark-2.4.5/spark-2.4.5-bin-hadoop2.7.tgz\n",
        "# !tar xf spark-2.4.5-bin-hadoop2.7.tgz\n",
        "# !pip install -q findspark"
      ],
      "execution_count": 0,
      "outputs": []
    },
    {
      "cell_type": "code",
      "metadata": {
        "id": "ZAXQ-_wl0C5U",
        "colab_type": "code",
        "colab": {}
      },
      "source": [
        "# import os\n",
        "# os.environ[\"JAVA_HOME\"] = \"/usr/lib/jvm/java-8-openjdk-amd64\"\n",
        "# os.environ[\"SPARK_HOME\"] = \"/content/spark-2.4.5-bin-hadoop2.7\""
      ],
      "execution_count": 0,
      "outputs": []
    },
    {
      "cell_type": "code",
      "metadata": {
        "id": "n33_qEG10HUg",
        "colab_type": "code",
        "colab": {}
      },
      "source": [
        "import findspark\n",
        "findspark.init('/home/cse587/spark-2.4.0-bin-hadoop2.7')\n",
        "from pyspark.sql import SparkSession"
      ],
      "execution_count": 0,
      "outputs": []
    },
    {
      "cell_type": "code",
      "metadata": {
        "id": "PZeZ1yVj0Kb5",
        "colab_type": "code",
        "outputId": "26d32d4f-f06a-4604-c5cc-aa1f96fd4980",
        "colab": {
          "base_uri": "https://localhost:8080/",
          "height": 346
        }
      },
      "source": [
        "# from google.colab import files\n",
        "# files.upload()"
      ],
      "execution_count": 0,
      "outputs": [
        {
          "output_type": "display_data",
          "data": {
            "text/html": [
              "\n",
              "     <input type=\"file\" id=\"files-a6027efa-4702-450a-9827-1dcf52fdf598\" name=\"files[]\" multiple disabled />\n",
              "     <output id=\"result-a6027efa-4702-450a-9827-1dcf52fdf598\">\n",
              "      Upload widget is only available when the cell has been executed in the\n",
              "      current browser session. Please rerun this cell to enable.\n",
              "      </output>\n",
              "      <script src=\"/nbextensions/google.colab/files.js\"></script> "
            ],
            "text/plain": [
              "<IPython.core.display.HTML object>"
            ]
          },
          "metadata": {
            "tags": []
          }
        },
        {
          "output_type": "error",
          "ename": "MessageError",
          "evalue": "ignored",
          "traceback": [
            "\u001b[0;31m---------------------------------------------------------------------------\u001b[0m",
            "\u001b[0;31mMessageError\u001b[0m                              Traceback (most recent call last)",
            "\u001b[0;32m<ipython-input-4-5c2e8a8d365b>\u001b[0m in \u001b[0;36m<module>\u001b[0;34m()\u001b[0m\n\u001b[1;32m      1\u001b[0m \u001b[0;32mfrom\u001b[0m \u001b[0mgoogle\u001b[0m\u001b[0;34m.\u001b[0m\u001b[0mcolab\u001b[0m \u001b[0;32mimport\u001b[0m \u001b[0mfiles\u001b[0m\u001b[0;34m\u001b[0m\u001b[0;34m\u001b[0m\u001b[0m\n\u001b[0;32m----> 2\u001b[0;31m \u001b[0mfiles\u001b[0m\u001b[0;34m.\u001b[0m\u001b[0mupload\u001b[0m\u001b[0;34m(\u001b[0m\u001b[0;34m)\u001b[0m\u001b[0;34m\u001b[0m\u001b[0;34m\u001b[0m\u001b[0m\n\u001b[0m",
            "\u001b[0;32m/usr/local/lib/python3.6/dist-packages/google/colab/files.py\u001b[0m in \u001b[0;36mupload\u001b[0;34m()\u001b[0m\n\u001b[1;32m     62\u001b[0m   result = _output.eval_js(\n\u001b[1;32m     63\u001b[0m       'google.colab._files._uploadFiles(\"{input_id}\", \"{output_id}\")'.format(\n\u001b[0;32m---> 64\u001b[0;31m           input_id=input_id, output_id=output_id))\n\u001b[0m\u001b[1;32m     65\u001b[0m   \u001b[0mfiles\u001b[0m \u001b[0;34m=\u001b[0m \u001b[0m_collections\u001b[0m\u001b[0;34m.\u001b[0m\u001b[0mdefaultdict\u001b[0m\u001b[0;34m(\u001b[0m\u001b[0m_six\u001b[0m\u001b[0;34m.\u001b[0m\u001b[0mbinary_type\u001b[0m\u001b[0;34m)\u001b[0m\u001b[0;34m\u001b[0m\u001b[0;34m\u001b[0m\u001b[0m\n\u001b[1;32m     66\u001b[0m   \u001b[0;31m# Mapping from original filename to filename as saved locally.\u001b[0m\u001b[0;34m\u001b[0m\u001b[0;34m\u001b[0m\u001b[0;34m\u001b[0m\u001b[0m\n",
            "\u001b[0;32m/usr/local/lib/python3.6/dist-packages/google/colab/output/_js.py\u001b[0m in \u001b[0;36meval_js\u001b[0;34m(script, ignore_result)\u001b[0m\n\u001b[1;32m     37\u001b[0m   \u001b[0;32mif\u001b[0m \u001b[0mignore_result\u001b[0m\u001b[0;34m:\u001b[0m\u001b[0;34m\u001b[0m\u001b[0;34m\u001b[0m\u001b[0m\n\u001b[1;32m     38\u001b[0m     \u001b[0;32mreturn\u001b[0m\u001b[0;34m\u001b[0m\u001b[0;34m\u001b[0m\u001b[0m\n\u001b[0;32m---> 39\u001b[0;31m   \u001b[0;32mreturn\u001b[0m \u001b[0m_message\u001b[0m\u001b[0;34m.\u001b[0m\u001b[0mread_reply_from_input\u001b[0m\u001b[0;34m(\u001b[0m\u001b[0mrequest_id\u001b[0m\u001b[0;34m)\u001b[0m\u001b[0;34m\u001b[0m\u001b[0;34m\u001b[0m\u001b[0m\n\u001b[0m\u001b[1;32m     40\u001b[0m \u001b[0;34m\u001b[0m\u001b[0m\n\u001b[1;32m     41\u001b[0m \u001b[0;34m\u001b[0m\u001b[0m\n",
            "\u001b[0;32m/usr/local/lib/python3.6/dist-packages/google/colab/_message.py\u001b[0m in \u001b[0;36mread_reply_from_input\u001b[0;34m(message_id, timeout_sec)\u001b[0m\n\u001b[1;32m    104\u001b[0m         reply.get('colab_msg_id') == message_id):\n\u001b[1;32m    105\u001b[0m       \u001b[0;32mif\u001b[0m \u001b[0;34m'error'\u001b[0m \u001b[0;32min\u001b[0m \u001b[0mreply\u001b[0m\u001b[0;34m:\u001b[0m\u001b[0;34m\u001b[0m\u001b[0;34m\u001b[0m\u001b[0m\n\u001b[0;32m--> 106\u001b[0;31m         \u001b[0;32mraise\u001b[0m \u001b[0mMessageError\u001b[0m\u001b[0;34m(\u001b[0m\u001b[0mreply\u001b[0m\u001b[0;34m[\u001b[0m\u001b[0;34m'error'\u001b[0m\u001b[0;34m]\u001b[0m\u001b[0;34m)\u001b[0m\u001b[0;34m\u001b[0m\u001b[0;34m\u001b[0m\u001b[0m\n\u001b[0m\u001b[1;32m    107\u001b[0m       \u001b[0;32mreturn\u001b[0m \u001b[0mreply\u001b[0m\u001b[0;34m.\u001b[0m\u001b[0mget\u001b[0m\u001b[0;34m(\u001b[0m\u001b[0;34m'data'\u001b[0m\u001b[0;34m,\u001b[0m \u001b[0;32mNone\u001b[0m\u001b[0;34m)\u001b[0m\u001b[0;34m\u001b[0m\u001b[0;34m\u001b[0m\u001b[0m\n\u001b[1;32m    108\u001b[0m \u001b[0;34m\u001b[0m\u001b[0m\n",
            "\u001b[0;31mMessageError\u001b[0m: TypeError: Cannot read property '_uploadFiles' of undefined"
          ]
        }
      ]
    },
    {
      "cell_type": "code",
      "metadata": {
        "id": "lu22XAkV0MZu",
        "colab_type": "code",
        "colab": {}
      },
      "source": [
        "from pyspark.sql import *\n",
        "import pyspark.sql.functions as f\n",
        "from pyspark.ml.feature import Word2Vec, CountVectorizer, CountVectorizerModel, StopWordsRemover\n",
        "from pyspark.sql.types import FloatType, IntegerType\n",
        "from pyspark.ml.classification import LogisticRegression"
      ],
      "execution_count": 0,
      "outputs": []
    },
    {
      "cell_type": "code",
      "metadata": {
        "id": "I-HOHvFj1_xi",
        "colab_type": "code",
        "colab": {}
      },
      "source": [
        "spark = SparkSession.builder.appName('DicAssign3').config(\"spark.some.config.option\",\"some-value\")\\\n",
        "        .config(\"spark.executor.memory\", \"16g\")\\\n",
        "        .config(\"spark.driver.memory\", \"16g\")\\\n",
        "        .config(\"spark.memory.offHeap.enabled\",'true')\\\n",
        "        .config(\"spark.memory.offHeap.size\",\"8g\")\\\n",
        "        .getOrCreate()"
      ],
      "execution_count": 0,
      "outputs": []
    },
    {
      "cell_type": "code",
      "metadata": {
        "id": "wDy2xKZm2CZh",
        "colab_type": "code",
        "colab": {}
      },
      "source": [
        "df = spark.read.csv(\"train.csv\",inferSchema=\"true\",header=\"true\",escape='\"')\n",
        "df = df.na.drop(subset=[\"genre\"])\n",
        "df_test = spark.read.csv(\"test.csv\",inferSchema=\"true\",header=\"true\",escape='\"')\n",
        "mappings = spark.read.csv(\"mapping.csv\",header=\"true\")"
      ],
      "execution_count": 0,
      "outputs": []
    },
    {
      "cell_type": "code",
      "metadata": {
        "id": "Nsvh2xkV2GZV",
        "colab_type": "code",
        "colab": {}
      },
      "source": [
        "mappings = mappings.withColumn(\"genre_array\", f.split(f.col(\"0\"), \",\\s*\"))\n",
        "mapping_list = [\"Drama\",\"Comedy\",\"Romance Film\",\"Thriller\",\"Action\",\"World cinema\",\"Crime Fiction\",\"Horror\",\"Black-and-white\",\"Indie\",\"Action/Adventure\",\"Adventure\",\"Family Film\",\"Short Film\",\"Romantic drama\",\"Animation\",\"Musical\",\"Science Fiction\",\"Mystery\",\"Romantic comedy\"]"
      ],
      "execution_count": 0,
      "outputs": []
    },
    {
      "cell_type": "code",
      "metadata": {
        "id": "FiLlBYTb2Mqu",
        "colab_type": "code",
        "colab": {}
      },
      "source": [
        "df1 = df.withColumn(\"genre_array\", f.regexp_replace(f.col(\"genre\"), r'[\\[\\]\\']', ''))"
      ],
      "execution_count": 0,
      "outputs": []
    },
    {
      "cell_type": "code",
      "metadata": {
        "id": "df0wGaK22Por",
        "colab_type": "code",
        "colab": {}
      },
      "source": [
        "df2 = df1.withColumn(\"genre_array\", f.split(f.col(\"genre_array\"), \", \"))"
      ],
      "execution_count": 0,
      "outputs": []
    },
    {
      "cell_type": "code",
      "metadata": {
        "id": "9CVSuyah2TRb",
        "colab_type": "code",
        "colab": {}
      },
      "source": [
        "# vect = CountVectorizer(inputCol=\"genre_array\",outputCol=\"ohe_genre\",vocabSize=20)\n",
        "vect = CountVectorizerModel.from_vocabulary(vocabulary=mapping_list,inputCol=\"genre_array\",outputCol=\"ohe_genre\")\n",
        "# vect_model = vect.fit(df2)\n",
        "df_ohe = vect.transform(df2)"
      ],
      "execution_count": 0,
      "outputs": []
    },
    {
      "cell_type": "code",
      "metadata": {
        "id": "SvkGRkg72eHP",
        "colab_type": "code",
        "colab": {}
      },
      "source": [
        "# clean plot\n",
        "df_ohe = df_ohe.withColumn(\"plot\", f.regexp_replace(f.col(\"plot\"), r'[^A-Za-z ]', ''))\n",
        "df_ohe = df_ohe.withColumn(\"plot\", f.regexp_replace(f.col(\"plot\"), '\\s+', ' '))\n",
        "df_ohe = df_ohe.withColumn(\"plot\", f.lower(f.col(\"plot\")))"
      ],
      "execution_count": 0,
      "outputs": []
    },
    {
      "cell_type": "code",
      "metadata": {
        "id": "30ibyo2ChB5k",
        "colab_type": "code",
        "colab": {}
      },
      "source": [
        "# clean test plot\n",
        "mappins_ohe_test = df_test.withColumn(\"plot\", f.regexp_replace(f.col(\"plot\"), r'[^A-Za-z ]', ''))\n",
        "mappins_ohe_test = mappins_ohe_test.withColumn(\"plot\", f.regexp_replace(f.col(\"plot\"), '\\s+', ' '))\n",
        "mappins_ohe_test = mappins_ohe_test.withColumn(\"plot\", f.lower(f.col(\"plot\")))"
      ],
      "execution_count": 0,
      "outputs": []
    },
    {
      "cell_type": "code",
      "metadata": {
        "id": "cVZ_-Yuw26CW",
        "colab_type": "code",
        "colab": {}
      },
      "source": [
        "df_ohe1 = df_ohe.withColumn(\"plot_tokens\", f.split(f.col(\"plot\"), \" \"))\n",
        "mappins_ohe_test1 = mappins_ohe_test.withColumn(\"plot_tokens\", f.split(f.col(\"plot\"), \" \"))"
      ],
      "execution_count": 0,
      "outputs": []
    },
    {
      "cell_type": "code",
      "metadata": {
        "id": "ldJZ6Wce3Doq",
        "colab_type": "code",
        "colab": {}
      },
      "source": [
        "remover = StopWordsRemover(inputCol=\"plot_tokens\", outputCol=\"filtered_plot\")\n",
        "filtered_df = remover.transform(df_ohe1)\n",
        "filtered_df_test = remover.transform(mappins_ohe_test1)"
      ],
      "execution_count": 0,
      "outputs": []
    },
    {
      "cell_type": "code",
      "metadata": {
        "id": "dTcA-CCk6IIg",
        "colab_type": "code",
        "colab": {}
      },
      "source": [
        "word2VecEstimator = Word2Vec(vectorSize=450, minCount=0, inputCol=\"filtered_plot\", outputCol=\"matrix\")\n",
        "model = word2VecEstimator.fit(filtered_df)\n",
        "\n",
        "result = model.transform(filtered_df)\n",
        "result_test = model.transform(filtered_df_test)"
      ],
      "execution_count": 0,
      "outputs": []
    },
    {
      "cell_type": "code",
      "metadata": {
        "id": "0fVE2NVI6ZWZ",
        "colab_type": "code",
        "colab": {
          "base_uri": "https://localhost:8080/",
          "height": 54
        },
        "outputId": "1b6fc22b-e5af-4da5-973e-ebfdc524923d"
      },
      "source": [
        "result.select(\"matrix\").head(1)"
      ],
      "execution_count": 16,
      "outputs": [
        {
          "output_type": "execute_result",
          "data": {
            "text/plain": [
              "[Row(matrix=DenseVector([-0.0318, 0.0205, 0.0, 0.0418, -0.0785, -0.0081, 0.0635, -0.0493, 0.0318, -0.015, -0.0263, -0.0083, 0.003, 0.0212, 0.0062, 0.0347, -0.0001, -0.0504, -0.0045, -0.0511, 0.0599, -0.0081, 0.0432, 0.04, 0.0011, -0.002, 0.0284, 0.031, 0.0067, 0.0085, 0.0124, 0.0463, 0.0596, -0.0028, 0.0027, -0.0338, 0.0231, -0.0281, 0.0179, 0.0316, 0.0002, -0.0565, 0.0278, 0.014, -0.0566, -0.0077, 0.0222, -0.0316, 0.0197, -0.0241, -0.0197, 0.0515, -0.0342, 0.0127, -0.0739, -0.0051, 0.0269, -0.0304, -0.0017, 0.015, -0.0341, 0.0058, -0.0314, -0.0033, -0.035, 0.0056, 0.049, 0.0116, -0.0256, 0.0282, 0.0192, 0.0011, -0.0048, -0.0342, 0.0243, -0.0031, 0.0091, 0.0006, -0.0229, -0.0128, -0.0184, 0.0365, 0.009, 0.0084, -0.025, -0.006, 0.0095, -0.012, 0.0071, 0.0384, 0.0301, 0.0439, 0.0394, 0.0138, 0.0241, 0.0199, 0.0066, 0.0432, -0.0186, -0.0218, -0.0098, 0.0271, -0.0502, -0.0211, 0.0304, -0.0412, -0.0323, 0.029, -0.0846, -0.065, -0.0003, -0.0479, 0.0075, -0.017, 0.0144, 0.0136, -0.0158, -0.0161, -0.018, 0.0019, -0.027, 0.019, -0.0269, 0.0401, -0.0316, -0.0267, -0.0226, 0.0139, -0.014, 0.0236, 0.0024, -0.0065, -0.001, -0.0165, -0.0201, 0.0011, -0.0347, 0.0087, -0.0445, 0.0118, 0.0394, 0.0034, 0.005, 0.058, 0.0109, -0.0098, -0.0009, -0.0076, 0.0031, -0.0165, 0.001, 0.0401, 0.0061, 0.013, -0.03, -0.0059, 0.0138, -0.0137, -0.0092, 0.0153, -0.0266, -0.0175, -0.0253, 0.0158, -0.017, -0.013, 0.0495, -0.0188, -0.0192, 0.0246, 0.0343, 0.0127, 0.0339, -0.0038, -0.0087, -0.0506, -0.0068, 0.0557, 0.0796, 0.0057, -0.0364, 0.05, -0.0122, -0.0127, -0.0062, -0.0237, -0.0275, 0.0013, -0.0087, 0.0782, 0.0482, -0.0111, 0.0202, -0.0003, 0.0021, 0.0309, 0.013, 0.0108, -0.009, 0.0621, -0.0489, -0.018, -0.0146, -0.0165, 0.0071, -0.0122, -0.0449, 0.0532, 0.0146, 0.0548, 0.036, 0.0034, -0.0022, -0.0086, 0.0118, -0.0411, -0.0008, -0.01, 0.0023, -0.0517, -0.0193, -0.0216, 0.0221, 0.0117, -0.0445, -0.0263, -0.0041, 0.0648, 0.0248, -0.0109, 0.0024, -0.057, -0.0222, 0.0174, -0.0628, 0.0663, 0.0005, -0.0251, 0.0269, 0.0399, 0.0389, 0.021, -0.0195, -0.0254, 0.0343, 0.005, 0.0014, -0.0429, 0.0028, -0.0235, 0.0102, -0.0038, 0.0291, 0.0307, 0.0133, -0.0588, -0.022, 0.0125, -0.0021, -0.0629, -0.0046, -0.0052, 0.0133, 0.0617, -0.0512, -0.0168, -0.0014, 0.0239, 0.0016, -0.011, 0.0254, -0.0375, 0.0106, 0.0055, -0.0222, -0.0214, -0.0178, 0.0234, -0.0982, 0.007, -0.0149, -0.0212, -0.0204, 0.0718, 0.0407, -0.0134, 0.0155, 0.0385, 0.0203, -0.0132, 0.0199, 0.0443, -0.0449, 0.0272, -0.0421, 0.0013, -0.001, 0.0115, 0.0449, 0.0147, 0.0281, -0.0118, -0.0066, 0.0175, -0.0358, -0.0121, -0.0192, 0.0211, -0.0193, -0.0096, -0.0156, -0.0038, 0.0011, -0.0122, -0.0354, 0.0313, 0.0437, 0.0111, -0.005, -0.0252, 0.0218, -0.0058, 0.0172, -0.0016, -0.0056, -0.0067, -0.0396, 0.0207, -0.0579, 0.0058, -0.0538, 0.0093, 0.0286, 0.0237, 0.0296, -0.0042, -0.0427, -0.0067, -0.0427, 0.0067, 0.0125, 0.0097, 0.0117, -0.0098, -0.0396, 0.0271, 0.0157, -0.0267, -0.0064, -0.0073, -0.0064, -0.0286, 0.0108, 0.0142, -0.0006, -0.0514, 0.0293, -0.044, -0.0381, -0.0137, -0.0321, 0.0068, -0.0423, -0.0281, -0.0083, -0.0199, 0.0031, -0.0157, 0.0572, 0.0001, 0.0273, 0.0281, 0.0272, 0.004, 0.0435, -0.0164, 0.0161, 0.0421, -0.0161, -0.0173, -0.0594, 0.0462, 0.0379, -0.0051, 0.031, -0.0851, 0.0059, -0.0578, 0.003, 0.0037, 0.0256, -0.0375, -0.0285, 0.0499, 0.0329, 0.0202, 0.0157, -0.0168, 0.0266, -0.0142, 0.0779, 0.0392, 0.016, -0.02, -0.0703, 0.0131, 0.0555, 0.055, -0.0285, 0.0044, 0.0112, -0.0177, -0.0352, 0.0239, -0.0058, -0.0231, 0.0088, -0.0236, 0.018, -0.0207, 0.0075, 0.0211, -0.0044, 0.0009, 0.0227, -0.0046, -0.0072, 0.0022, 0.0571, 0.082, 0.0657, 0.0122, -0.0665, -0.0117, -0.0112, 0.0053, -0.0039, 0.0329, 0.0524, -0.0126, -0.0196, -0.039, -0.0069, -0.0823, -0.0035, 0.0042, -0.0184, 0.0323, 0.0026, -0.0596]))]"
            ]
          },
          "metadata": {
            "tags": []
          },
          "execution_count": 16
        }
      ]
    },
    {
      "cell_type": "code",
      "metadata": {
        "id": "BCb_Xa453VHS",
        "colab_type": "code",
        "colab": {
          "base_uri": "https://localhost:8080/",
          "height": 34
        },
        "outputId": "674d846e-c3a9-4c5f-dbec-70c211593754"
      },
      "source": [
        "word2Vec = result.selectExpr(\"movie_id\",\"matrix as features\", \"ohe_genre as label\")\n",
        "word2Vec_test = result_test.selectExpr(\"movie_id\",\"matrix as features\")\n",
        "word2Vec.count()"
      ],
      "execution_count": 17,
      "outputs": [
        {
          "output_type": "execute_result",
          "data": {
            "text/plain": [
              "31109"
            ]
          },
          "metadata": {
            "tags": []
          },
          "execution_count": 17
        }
      ]
    },
    {
      "cell_type": "code",
      "metadata": {
        "id": "sSOV3uQz3eDu",
        "colab_type": "code",
        "colab": {}
      },
      "source": [
        "lrModels = []\n",
        "for i in range(20):\n",
        "    firstElement = f.udf(lambda v: float(v[i]), FloatType())\n",
        "\n",
        "    new_df = word2Vec.withColumn(\"label\", firstElement(\"label\"))\n",
        "    lr = LogisticRegression(maxIter=100, regParam=0.3, elasticNetParam=0)\n",
        "    lrModel = lr.fit(new_df)\n",
        "    lrModels.append(lrModel)"
      ],
      "execution_count": 0,
      "outputs": []
    },
    {
      "cell_type": "code",
      "metadata": {
        "id": "ggFTGSAU3hkT",
        "colab_type": "code",
        "colab": {}
      },
      "source": [
        "predictions = []\n",
        "for i in range(len(lrModels)):\n",
        "    firstElement = f.udf(lambda v: float(v[i]), FloatType())\n",
        "\n",
        "    new_df = word2Vec.withColumn(\"label\", firstElement(\"label\"))\n",
        "    predicted = lrModels[i].transform(word2Vec_test)\n",
        "    predicted = predicted.withColumn(\"prediction\", predicted[\"prediction\"].cast(IntegerType()))\n",
        "    predictions.append(predicted)"
      ],
      "execution_count": 0,
      "outputs": []
    },
    {
      "cell_type": "code",
      "metadata": {
        "id": "WR1DG67v3wcq",
        "colab_type": "code",
        "colab": {}
      },
      "source": [
        "final_df = predictions[0].selectExpr(\"movie_id\",\"prediction as predictions\")\n",
        "for i in range(1,len(predictions)):\n",
        "    final_df = final_df.join(predictions[i].selectExpr(\"movie_id\",\"prediction as prediction\"+str(i)), [\"movie_id\"])\n",
        "    final_df = final_df.withColumn(\"predictions\", f.concat(f.col(\"predictions\"), f.lit(\" \"), f.col(\"prediction\"+str(i)))).select(\"movie_id\",\"predictions\")"
      ],
      "execution_count": 0,
      "outputs": []
    },
    {
      "cell_type": "code",
      "metadata": {
        "id": "EKgcXuMu36uH",
        "colab_type": "code",
        "outputId": "7044a614-bcc3-44a7-ad74-3a11bbe21ba4",
        "colab": {
          "base_uri": "https://localhost:8080/",
          "height": 469
        }
      },
      "source": [
        "final_df.show(truncate=False)"
      ],
      "execution_count": 21,
      "outputs": [
        {
          "output_type": "stream",
          "text": [
            "+--------+---------------------------------------+\n",
            "|movie_id|predictions                            |\n",
            "+--------+---------------------------------------+\n",
            "|1335380 |1 0 0 0 0 0 0 0 0 0 0 0 0 0 0 0 0 0 0 0|\n",
            "|29062594|1 0 0 0 0 0 0 0 0 0 0 0 0 0 0 0 0 0 0 0|\n",
            "|9252321 |1 0 0 0 0 0 0 0 0 0 0 0 0 0 0 0 0 0 0 0|\n",
            "|13455076|0 0 0 0 0 0 0 0 0 0 0 0 0 0 0 0 0 0 0 0|\n",
            "|24165951|0 0 0 0 1 0 0 0 0 0 0 0 0 0 0 0 0 0 0 0|\n",
            "|1925869 |1 0 0 0 0 0 0 0 0 0 0 0 0 0 0 0 0 0 0 0|\n",
            "|10799612|1 0 0 0 0 0 0 0 0 0 0 0 0 0 0 0 0 0 0 0|\n",
            "|28238240|0 1 0 0 0 0 0 0 0 0 0 0 1 0 0 0 0 0 0 0|\n",
            "|17124781|0 0 0 0 1 0 0 0 0 0 0 0 0 0 0 0 0 0 0 0|\n",
            "|28207941|0 1 0 0 0 0 0 0 0 0 0 0 1 1 0 1 0 0 0 0|\n",
            "|19174305|1 0 0 0 0 0 0 0 0 0 0 0 0 0 0 0 0 0 0 0|\n",
            "|18392317|0 0 0 0 0 0 0 0 0 0 0 0 0 0 0 0 0 0 0 0|\n",
            "|34420857|1 0 1 0 0 0 0 0 0 0 0 0 0 0 0 0 0 0 0 0|\n",
            "|4039635 |0 0 0 0 0 0 0 0 0 0 0 0 0 0 0 0 0 0 0 0|\n",
            "|8034072 |1 0 0 0 0 0 0 0 0 0 0 0 0 0 0 0 0 0 0 0|\n",
            "|4016437 |1 0 0 0 0 0 0 0 0 0 0 0 0 0 0 0 0 0 0 0|\n",
            "|1520023 |0 0 0 0 0 0 0 0 0 0 0 0 0 0 0 0 0 0 0 0|\n",
            "|24589422|1 0 1 0 0 0 0 0 0 0 0 0 0 0 0 0 0 0 0 0|\n",
            "|35068740|1 0 1 0 0 0 0 0 0 0 0 0 0 0 0 0 0 0 0 0|\n",
            "|21132951|1 0 0 0 0 0 0 0 0 0 0 0 0 0 0 0 0 0 0 0|\n",
            "+--------+---------------------------------------+\n",
            "only showing top 20 rows\n",
            "\n"
          ],
          "name": "stdout"
        }
      ]
    },
    {
      "cell_type": "code",
      "metadata": {
        "id": "cuhI3HNvB5dF",
        "colab_type": "code",
        "colab": {}
      },
      "source": [
        "final_df.toPandas().to_csv(\"pred3.csv\",index = False)"
      ],
      "execution_count": 0,
      "outputs": []
    },
    {
      "cell_type": "code",
      "metadata": {
        "id": "oA_L-x40mmQz",
        "colab_type": "code",
        "colab": {}
      },
      "source": [
        ""
      ],
      "execution_count": 0,
      "outputs": []
    }
  ]
}