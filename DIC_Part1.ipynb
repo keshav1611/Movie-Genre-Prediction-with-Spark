{
  "nbformat": 4,
  "nbformat_minor": 0,
  "metadata": {
    "kernelspec": {
      "display_name": "Python 3",
      "language": "python",
      "name": "python3"
    },
    "language_info": {
      "codemirror_mode": {
        "name": "ipython",
        "version": 3
      },
      "file_extension": ".py",
      "mimetype": "text/x-python",
      "name": "python",
      "nbconvert_exporter": "python",
      "pygments_lexer": "ipython3",
      "version": "3.6.9"
    },
    "colab": {
      "name": "Copy of Part1_ch.ipynb",
      "provenance": [],
      "collapsed_sections": []
    },
    "accelerator": "GPU"
  },
  "cells": [
    {
      "cell_type": "code",
      "metadata": {
        "id": "c01pZXpHHCxU",
        "colab_type": "code",
        "colab": {}
      },
      "source": [
        "# !apt-get install openjdk-8-jdk-headless -qq > /dev/null\n",
        "# !wget -q http://us.mirrors.quenda.co/apache/spark/spark-2.4.5/spark-2.4.5-bin-hadoop2.7.tgz\n",
        "# !tar xf spark-2.4.5-bin-hadoop2.7.tgz\n",
        "# !pip install -q findspark\n",
        "\n",
        "# import os\n",
        "# os.environ[\"JAVA_HOME\"] = \"/usr/lib/jvm/java-8-openjdk-amd64\"\n",
        "# os.environ[\"SPARK_HOME\"] = \"/content/spark-2.4.5-bin-hadoop2.7\"\n",
        "\n",
        "# import findspark\n",
        "# findspark.init()\n",
        "\n",
        "\n",
        "import findspark\n",
        "findspark.init('/home/cse587/spark/spark-2.4.0-bin-hadoop2.7')"
      ],
      "execution_count": 0,
      "outputs": []
    },
    {
      "cell_type": "code",
      "metadata": {
        "id": "vXWjuCGIFsan",
        "colab_type": "code",
        "colab": {}
      },
      "source": [
        "from pyspark.sql import *\n",
        "import pyspark.sql.functions as f\n",
        "from pyspark.sql.types import FloatType, DoubleType, IntegerType\n",
        "from pyspark.ml.feature import CountVectorizer,  CountVectorizerModel, StopWordsRemover, OneHotEncoder, StringIndexer\n",
        "from pyspark.ml.classification import LogisticRegression, OneVsRest\n",
        "# from pyspark.mllib.regression import LabeledPoint\n",
        "# from pyspark.mllib.classification import LogisticRegressionWithLBFGS"
      ],
      "execution_count": 0,
      "outputs": []
    },
    {
      "cell_type": "code",
      "metadata": {
        "id": "1JUBBVgtFsbB",
        "colab_type": "code",
        "colab": {}
      },
      "source": [
        "spark = SparkSession.builder.appName('DicAssign3').config(\"spark.some.config.option\",\"some-value\").getOrCreate()"
      ],
      "execution_count": 0,
      "outputs": []
    },
    {
      "cell_type": "code",
      "metadata": {
        "id": "ZDEVQ_H8Fsbb",
        "colab_type": "code",
        "colab": {}
      },
      "source": [
        "df = spark.read.csv(\"train.csv\",inferSchema=\"true\",header=\"true\",escape='\"')\n",
        "df_test = spark.read.csv(\"test.csv\",inferSchema=\"true\",header=\"true\",escape='\"')\n",
        "df = df.na.drop(subset=[\"genre\"])\n",
        "mappings = spark.read.csv(\"mapping.csv\",header=\"true\")"
      ],
      "execution_count": 0,
      "outputs": []
    },
    {
      "cell_type": "code",
      "metadata": {
        "id": "-wD1LadRFsb4",
        "colab_type": "code",
        "outputId": "3127f1cb-70bd-4094-f9c2-5414f6e2ba54",
        "colab": {
          "base_uri": "https://localhost:8080/",
          "height": 119
        }
      },
      "source": [
        "df.printSchema()"
      ],
      "execution_count": 6,
      "outputs": [
        {
          "output_type": "stream",
          "text": [
            "root\n",
            " |-- movie_id: string (nullable = true)\n",
            " |-- movie_name: string (nullable = true)\n",
            " |-- plot: string (nullable = true)\n",
            " |-- genre: string (nullable = true)\n",
            "\n"
          ],
          "name": "stdout"
        }
      ]
    },
    {
      "cell_type": "code",
      "metadata": {
        "id": "clf3wbVgFscW",
        "colab_type": "code",
        "outputId": "b9e384dd-08d4-4ff3-c51f-dc2ba12a50f3",
        "colab": {
          "base_uri": "https://localhost:8080/",
          "height": 102
        }
      },
      "source": [
        "df.filter(df.genre.isNull()).show()"
      ],
      "execution_count": 7,
      "outputs": [
        {
          "output_type": "stream",
          "text": [
            "+--------+----------+----+-----+\n",
            "|movie_id|movie_name|plot|genre|\n",
            "+--------+----------+----+-----+\n",
            "+--------+----------+----+-----+\n",
            "\n"
          ],
          "name": "stdout"
        }
      ]
    },
    {
      "cell_type": "code",
      "metadata": {
        "id": "1CYwOCc0Fsco",
        "colab_type": "code",
        "outputId": "829c0371-eccd-44f9-bfc5-6af8bd87ce69",
        "colab": {
          "base_uri": "https://localhost:8080/",
          "height": 510
        }
      },
      "source": [
        "mappings.show()\n",
        "mappings.printSchema()"
      ],
      "execution_count": 8,
      "outputs": [
        {
          "output_type": "stream",
          "text": [
            "+---+----------------+\n",
            "|_c0|               0|\n",
            "+---+----------------+\n",
            "|  0|           Drama|\n",
            "|  1|          Comedy|\n",
            "|  2|    Romance Film|\n",
            "|  3|        Thriller|\n",
            "|  4|          Action|\n",
            "|  5|    World cinema|\n",
            "|  6|   Crime Fiction|\n",
            "|  7|          Horror|\n",
            "|  8| Black-and-white|\n",
            "|  9|           Indie|\n",
            "| 10|Action/Adventure|\n",
            "| 11|       Adventure|\n",
            "| 12|     Family Film|\n",
            "| 13|      Short Film|\n",
            "| 14|  Romantic drama|\n",
            "| 15|       Animation|\n",
            "| 16|         Musical|\n",
            "| 17| Science Fiction|\n",
            "| 18|         Mystery|\n",
            "| 19| Romantic comedy|\n",
            "+---+----------------+\n",
            "\n",
            "root\n",
            " |-- _c0: string (nullable = true)\n",
            " |-- 0: string (nullable = true)\n",
            "\n"
          ],
          "name": "stdout"
        }
      ]
    },
    {
      "cell_type": "code",
      "metadata": {
        "id": "u7YTLZ8ZFsc8",
        "colab_type": "code",
        "colab": {}
      },
      "source": [
        "mappings = mappings.withColumn(\"genre_array\", f.split(f.col(\"0\"), \",\\s*\"))"
      ],
      "execution_count": 0,
      "outputs": []
    },
    {
      "cell_type": "code",
      "metadata": {
        "scrolled": true,
        "id": "W5nhnVwaFsdR",
        "colab_type": "code",
        "outputId": "2b24faf4-a9e5-4bba-ef0a-b471ff5adef1",
        "colab": {
          "base_uri": "https://localhost:8080/",
          "height": 527
        }
      },
      "source": [
        "mappings = mappings.drop(\"0\")\n",
        "mappings.show()\n",
        "mappings.printSchema()\n",
        "mapping_list = [\"Drama\",\"Comedy\",\"Romance Film\",\"Thriller\",\"Action\",\"World cinema\",\"Crime Fiction\",\"Horror\",\"Black-and-white\",\"Indie\",\"Action/Adventure\",\"Adventure\",\"Family Film\",\"Short Film\",\"Romantic drama\",\"Animation\",\"Musical\",\"Science Fiction\",\"Mystery\",\"Romantic comedy\"]"
      ],
      "execution_count": 10,
      "outputs": [
        {
          "output_type": "stream",
          "text": [
            "+---+------------------+\n",
            "|_c0|       genre_array|\n",
            "+---+------------------+\n",
            "|  0|           [Drama]|\n",
            "|  1|          [Comedy]|\n",
            "|  2|    [Romance Film]|\n",
            "|  3|        [Thriller]|\n",
            "|  4|          [Action]|\n",
            "|  5|    [World cinema]|\n",
            "|  6|   [Crime Fiction]|\n",
            "|  7|          [Horror]|\n",
            "|  8| [Black-and-white]|\n",
            "|  9|           [Indie]|\n",
            "| 10|[Action/Adventure]|\n",
            "| 11|       [Adventure]|\n",
            "| 12|     [Family Film]|\n",
            "| 13|      [Short Film]|\n",
            "| 14|  [Romantic drama]|\n",
            "| 15|       [Animation]|\n",
            "| 16|         [Musical]|\n",
            "| 17| [Science Fiction]|\n",
            "| 18|         [Mystery]|\n",
            "| 19| [Romantic comedy]|\n",
            "+---+------------------+\n",
            "\n",
            "root\n",
            " |-- _c0: string (nullable = true)\n",
            " |-- genre_array: array (nullable = true)\n",
            " |    |-- element: string (containsNull = true)\n",
            "\n"
          ],
          "name": "stdout"
        }
      ]
    },
    {
      "cell_type": "code",
      "metadata": {
        "id": "JSygQDpUFsdj",
        "colab_type": "code",
        "colab": {}
      },
      "source": [
        "df1 = df.withColumn(\"genre_array\", f.regexp_replace(f.col(\"genre\"), r'[\\[\\]\\']', ''))"
      ],
      "execution_count": 0,
      "outputs": []
    },
    {
      "cell_type": "code",
      "metadata": {
        "id": "GM662hL_Fsd1",
        "colab_type": "code",
        "outputId": "c8066428-b001-439f-844f-222270cf2128",
        "colab": {
          "base_uri": "https://localhost:8080/",
          "height": 459
        }
      },
      "source": [
        "df.select(\"genre\").show(truncate=False)"
      ],
      "execution_count": 12,
      "outputs": [
        {
          "output_type": "stream",
          "text": [
            "+-------------------------------------------------------------------------+\n",
            "|genre                                                                    |\n",
            "+-------------------------------------------------------------------------+\n",
            "|['World cinema', 'Drama']                                                |\n",
            "|['Action/Adventure', 'Action', 'Science Fiction', 'Drama']               |\n",
            "|['Musical', 'Action', 'Drama']                                           |\n",
            "|['Comedy']                                                               |\n",
            "|['Crime Fiction', 'World cinema', 'Drama']                               |\n",
            "|['Action/Adventure', 'Action', 'Thriller', 'Drama']                      |\n",
            "|['Thriller', 'Drama', 'Horror']                                          |\n",
            "|['Drama']                                                                |\n",
            "|['Black-and-white', 'Comedy', 'Romance Film', 'Romantic comedy', 'Drama']|\n",
            "|['Animation', 'Short Film', 'Family Film']                               |\n",
            "|['Comedy']                                                               |\n",
            "|['Crime Fiction', 'Comedy', 'World cinema', 'Drama']                     |\n",
            "|['Comedy']                                                               |\n",
            "|['Comedy']                                                               |\n",
            "|['Horror']                                                               |\n",
            "|['Crime Fiction', 'Thriller', 'Mystery', 'Horror']                       |\n",
            "|['Drama']                                                                |\n",
            "|['Crime Fiction', 'Action', 'Romance Film', 'Indie', 'Thriller']         |\n",
            "|['Indie', 'Drama']                                                       |\n",
            "|['Drama']                                                                |\n",
            "+-------------------------------------------------------------------------+\n",
            "only showing top 20 rows\n",
            "\n"
          ],
          "name": "stdout"
        }
      ]
    },
    {
      "cell_type": "code",
      "metadata": {
        "id": "HuWM9VSQFseV",
        "colab_type": "code",
        "outputId": "c0aedd53-36b2-42e4-f88e-12d7fb1f1f27",
        "colab": {
          "base_uri": "https://localhost:8080/",
          "height": 459
        }
      },
      "source": [
        "df1.show()"
      ],
      "execution_count": 13,
      "outputs": [
        {
          "output_type": "stream",
          "text": [
            "+--------+--------------------+--------------------+--------------------+--------------------+\n",
            "|movie_id|          movie_name|                plot|               genre|         genre_array|\n",
            "+--------+--------------------+--------------------+--------------------+--------------------+\n",
            "|23890098|          Taxi Blues|Shlykov, a hard-w...|['World cinema', ...| World cinema, Drama|\n",
            "|31186339|    The Hunger Games|The nation of Pan...|['Action/Adventur...|Action/Adventure,...|\n",
            "|20663735|          Narasimham|Poovalli Induchoo...|['Musical', 'Acti...|Musical, Action, ...|\n",
            "| 2231378|  The Lemon Drop Kid|The Lemon Drop Ki...|          ['Comedy']|              Comedy|\n",
            "|  595909|   A Cry in the Dark|Seventh-day Adven...|['Crime Fiction',...|Crime Fiction, Wo...|\n",
            "| 5272176|            End Game|The president is ...|['Action/Adventur...|Action/Adventure,...|\n",
            "| 1952976|          Dark Water|{{plot}} The film...|['Thriller', 'Dra...|Thriller, Drama, ...|\n",
            "|24225279|                Sing|The story begins ...|           ['Drama']|               Drama|\n",
            "| 2462689|       Meet John Doe|Infuriated at bei...|['Black-and-white...|Black-and-white, ...|\n",
            "|20532852|Destination Meatball|A line of people ...|['Animation', 'Sh...|Animation, Short ...|\n",
            "|15401493|    Husband for Hire|Lola  attempts to...|          ['Comedy']|              Comedy|\n",
            "|18188932|         Up and Down|Milan and Goran a...|['Crime Fiction',...|Crime Fiction, Co...|\n",
            "| 2940516|Ghost In The Noon...|Bumbling pirate c...|          ['Comedy']|              Comedy|\n",
            "| 1480747|       House Party 2|{{plot}} Followin...|          ['Comedy']|              Comedy|\n",
            "|24448645|Forest of the Dam...|Despite Lucy's re...|          ['Horror']|              Horror|\n",
            "|15072401|Charlie Chan's Se...|Alan Colby, heir ...|['Crime Fiction',...|Crime Fiction, Th...|\n",
            "| 4018288|     The Biggest Fan|Debbie's favorite...|           ['Drama']|               Drama|\n",
            "| 4596602|      Ashes to Ashes|Ashes to Ashes is...|['Crime Fiction',...|Crime Fiction, Ac...|\n",
            "|15224586|        Green Dragon|The film follows ...|  ['Indie', 'Drama']|        Indie, Drama|\n",
            "|15585766|  The Rats of Tobruk|Three friends are...|           ['Drama']|               Drama|\n",
            "+--------+--------------------+--------------------+--------------------+--------------------+\n",
            "only showing top 20 rows\n",
            "\n"
          ],
          "name": "stdout"
        }
      ]
    },
    {
      "cell_type": "code",
      "metadata": {
        "id": "sYWWU1H2Fsem",
        "colab_type": "code",
        "colab": {}
      },
      "source": [
        "df2 = df1.withColumn(\"genre_array\", f.split(f.col(\"genre_array\"), \", \"))"
      ],
      "execution_count": 0,
      "outputs": []
    },
    {
      "cell_type": "code",
      "metadata": {
        "id": "377dQGg2Fse8",
        "colab_type": "code",
        "outputId": "ab299398-d66d-4bce-bf70-95924f9f5119",
        "colab": {
          "base_uri": "https://localhost:8080/",
          "height": 34
        }
      },
      "source": [
        "df.filter(df.genre.isNull()).count()"
      ],
      "execution_count": 15,
      "outputs": [
        {
          "output_type": "execute_result",
          "data": {
            "text/plain": [
              "0"
            ]
          },
          "metadata": {
            "tags": []
          },
          "execution_count": 15
        }
      ]
    },
    {
      "cell_type": "code",
      "metadata": {
        "id": "Y39j2cKuFsfT",
        "colab_type": "code",
        "colab": {}
      },
      "source": [
        ""
      ],
      "execution_count": 0,
      "outputs": []
    },
    {
      "cell_type": "code",
      "metadata": {
        "id": "FdQwH_FqFsfh",
        "colab_type": "code",
        "colab": {}
      },
      "source": [
        "# vect = CountVectorizer(inputCol=\"genre_array\",outputCol=\"ohe_genre\",vocabSize=20)\n",
        "vect = CountVectorizerModel.from_vocabulary(vocabulary=mapping_list,inputCol=\"genre_array\",outputCol=\"ohe_genre\")"
      ],
      "execution_count": 0,
      "outputs": []
    },
    {
      "cell_type": "code",
      "metadata": {
        "id": "_tC3FxixFsfv",
        "colab_type": "code",
        "outputId": "6c62f4e1-6a79-48ed-951a-9b81ccb40223",
        "colab": {
          "base_uri": "https://localhost:8080/",
          "height": 357
        }
      },
      "source": [
        "vect.vocabulary"
      ],
      "execution_count": 17,
      "outputs": [
        {
          "output_type": "execute_result",
          "data": {
            "text/plain": [
              "['Drama',\n",
              " 'Comedy',\n",
              " 'Romance Film',\n",
              " 'Thriller',\n",
              " 'Action',\n",
              " 'World cinema',\n",
              " 'Crime Fiction',\n",
              " 'Horror',\n",
              " 'Black-and-white',\n",
              " 'Indie',\n",
              " 'Action/Adventure',\n",
              " 'Adventure',\n",
              " 'Family Film',\n",
              " 'Short Film',\n",
              " 'Romantic drama',\n",
              " 'Animation',\n",
              " 'Musical',\n",
              " 'Science Fiction',\n",
              " 'Mystery',\n",
              " 'Romantic comedy']"
            ]
          },
          "metadata": {
            "tags": []
          },
          "execution_count": 17
        }
      ]
    },
    {
      "cell_type": "code",
      "metadata": {
        "scrolled": true,
        "id": "sRtMvy-QFsf_",
        "colab_type": "code",
        "colab": {}
      },
      "source": [
        "mappins_ohe = vect.transform(df2)"
      ],
      "execution_count": 0,
      "outputs": []
    },
    {
      "cell_type": "code",
      "metadata": {
        "id": "E20eTuHnFsgN",
        "colab_type": "code",
        "outputId": "92a34da3-6492-49eb-a15d-13930e3d11e3",
        "colab": {
          "base_uri": "https://localhost:8080/",
          "height": 459
        }
      },
      "source": [
        "mappins_ohe.select(\"genre_array\",\"ohe_genre\").show(truncate=False)"
      ],
      "execution_count": 19,
      "outputs": [
        {
          "output_type": "stream",
          "text": [
            "+---------------------------------------------------------------+---------------------------------------+\n",
            "|genre_array                                                    |ohe_genre                              |\n",
            "+---------------------------------------------------------------+---------------------------------------+\n",
            "|[World cinema, Drama]                                          |(20,[0,5],[1.0,1.0])                   |\n",
            "|[Action/Adventure, Action, Science Fiction, Drama]             |(20,[0,4,10,17],[1.0,1.0,1.0,1.0])     |\n",
            "|[Musical, Action, Drama]                                       |(20,[0,4,16],[1.0,1.0,1.0])            |\n",
            "|[Comedy]                                                       |(20,[1],[1.0])                         |\n",
            "|[Crime Fiction, World cinema, Drama]                           |(20,[0,5,6],[1.0,1.0,1.0])             |\n",
            "|[Action/Adventure, Action, Thriller, Drama]                    |(20,[0,3,4,10],[1.0,1.0,1.0,1.0])      |\n",
            "|[Thriller, Drama, Horror]                                      |(20,[0,3,7],[1.0,1.0,1.0])             |\n",
            "|[Drama]                                                        |(20,[0],[1.0])                         |\n",
            "|[Black-and-white, Comedy, Romance Film, Romantic comedy, Drama]|(20,[0,1,2,8,19],[1.0,1.0,1.0,1.0,1.0])|\n",
            "|[Animation, Short Film, Family Film]                           |(20,[12,13,15],[1.0,1.0,1.0])          |\n",
            "|[Comedy]                                                       |(20,[1],[1.0])                         |\n",
            "|[Crime Fiction, Comedy, World cinema, Drama]                   |(20,[0,1,5,6],[1.0,1.0,1.0,1.0])       |\n",
            "|[Comedy]                                                       |(20,[1],[1.0])                         |\n",
            "|[Comedy]                                                       |(20,[1],[1.0])                         |\n",
            "|[Horror]                                                       |(20,[7],[1.0])                         |\n",
            "|[Crime Fiction, Thriller, Mystery, Horror]                     |(20,[3,6,7,18],[1.0,1.0,1.0,1.0])      |\n",
            "|[Drama]                                                        |(20,[0],[1.0])                         |\n",
            "|[Crime Fiction, Action, Romance Film, Indie, Thriller]         |(20,[2,3,4,6,9],[1.0,1.0,1.0,1.0,1.0]) |\n",
            "|[Indie, Drama]                                                 |(20,[0,9],[1.0,1.0])                   |\n",
            "|[Drama]                                                        |(20,[0],[1.0])                         |\n",
            "+---------------------------------------------------------------+---------------------------------------+\n",
            "only showing top 20 rows\n",
            "\n"
          ],
          "name": "stdout"
        }
      ]
    },
    {
      "cell_type": "code",
      "metadata": {
        "id": "b--MH66rFsgj",
        "colab_type": "code",
        "colab": {}
      },
      "source": [
        "# clean plot\n",
        "mappins_ohe = mappins_ohe.withColumn(\"plot\", f.regexp_replace(f.col(\"plot\"), r'[^A-Za-z ]', ''))\n",
        "mappins_ohe = mappins_ohe.withColumn(\"plot\", f.regexp_replace(f.col(\"plot\"), '\\s+', ' '))\n",
        "mappins_ohe = mappins_ohe.withColumn(\"plot\", f.lower(f.col(\"plot\")))"
      ],
      "execution_count": 0,
      "outputs": []
    },
    {
      "cell_type": "code",
      "metadata": {
        "id": "fYscp7zlFsg2",
        "colab_type": "code",
        "colab": {}
      },
      "source": [
        "# clean test plot\n",
        "mappins_ohe_test = df_test.withColumn(\"plot\", f.regexp_replace(f.col(\"plot\"), r'[^A-Za-z ]', ''))\n",
        "mappins_ohe_test = mappins_ohe_test.withColumn(\"plot\", f.regexp_replace(f.col(\"plot\"), '\\s+', ' '))\n",
        "mappins_ohe_test = mappins_ohe_test.withColumn(\"plot\", f.lower(f.col(\"plot\")))"
      ],
      "execution_count": 0,
      "outputs": []
    },
    {
      "cell_type": "code",
      "metadata": {
        "id": "eHNIBPldFshU",
        "colab_type": "code",
        "colab": {}
      },
      "source": [
        "mappins_ohe1 = mappins_ohe.withColumn(\"plot_tokens\", f.split(f.col(\"plot\"), \" \"))\n",
        "mappins_ohe_test1 = mappins_ohe_test.withColumn(\"plot_tokens\", f.split(f.col(\"plot\"), \" \"))"
      ],
      "execution_count": 0,
      "outputs": []
    },
    {
      "cell_type": "code",
      "metadata": {
        "id": "XtTxN1WXFshk",
        "colab_type": "code",
        "colab": {}
      },
      "source": [
        "remover = StopWordsRemover(inputCol=\"plot_tokens\", outputCol=\"filtered_plot\")\n",
        "filtered_df = remover.transform(mappins_ohe1)\n",
        "filtered_df_test = remover.transform(mappins_ohe_test1)"
      ],
      "execution_count": 0,
      "outputs": []
    },
    {
      "cell_type": "code",
      "metadata": {
        "id": "cTGNkX4EFsh9",
        "colab_type": "code",
        "outputId": "76ef42bc-db13-42c1-c875-29dce0b7dd96",
        "colab": {
          "base_uri": "https://localhost:8080/",
          "height": 901
        }
      },
      "source": [
        "filtered_df.withColumn(\"word\", f.explode(f.col(\"filtered_plot\")))\\\n",
        ".groupBy(\"word\")\\\n",
        ".count()\\\n",
        ".sort(\"count\", ascending=False)\\\n",
        ".show()\n",
        "filtered_df_test.withColumn(\"word\", f.explode(f.col(\"filtered_plot\")))\\\n",
        ".groupBy(\"word\")\\\n",
        ".count()\\\n",
        ".sort(\"count\", ascending=False)\\\n",
        ".show()"
      ],
      "execution_count": 24,
      "outputs": [
        {
          "output_type": "stream",
          "text": [
            "+-------+-----+\n",
            "|   word|count|\n",
            "+-------+-----+\n",
            "|    one|23628|\n",
            "|   back|18650|\n",
            "|    two|16395|\n",
            "|   film|14665|\n",
            "|  tells|14527|\n",
            "| father|13850|\n",
            "|    man|13751|\n",
            "|   time|13119|\n",
            "|    new|13107|\n",
            "|   life|13031|\n",
            "|    get|12980|\n",
            "|   love|12882|\n",
            "|   home|12736|\n",
            "|  house|12368|\n",
            "|   find|12288|\n",
            "|   also|12190|\n",
            "|however|12119|\n",
            "|  finds|12048|\n",
            "|  later|11757|\n",
            "| family|11719|\n",
            "+-------+-----+\n",
            "only showing top 20 rows\n",
            "\n",
            "+-------+-----+\n",
            "|   word|count|\n",
            "+-------+-----+\n",
            "|    one| 5851|\n",
            "|   back| 4617|\n",
            "|    two| 4126|\n",
            "|  tells| 3797|\n",
            "|   film| 3559|\n",
            "| father| 3492|\n",
            "|    man| 3474|\n",
            "|    get| 3351|\n",
            "|   love| 3244|\n",
            "|   time| 3228|\n",
            "|   home| 3206|\n",
            "|    new| 3191|\n",
            "|   find| 3083|\n",
            "|   also| 3059|\n",
            "|however| 3046|\n",
            "|   life| 3034|\n",
            "|  later| 3026|\n",
            "|  finds| 2951|\n",
            "| family| 2883|\n",
            "|  house| 2875|\n",
            "+-------+-----+\n",
            "only showing top 20 rows\n",
            "\n"
          ],
          "name": "stdout"
        }
      ]
    },
    {
      "cell_type": "code",
      "metadata": {
        "id": "a7IubPu-FsiJ",
        "colab_type": "code",
        "colab": {}
      },
      "source": [
        ""
      ],
      "execution_count": 0,
      "outputs": []
    },
    {
      "cell_type": "code",
      "metadata": {
        "id": "3IdkqZrHFsie",
        "colab_type": "code",
        "colab": {}
      },
      "source": [
        "plot_vectorizer = CountVectorizer(inputCol=\"filtered_plot\",outputCol=\"matrix\",vocabSize=10000)"
      ],
      "execution_count": 0,
      "outputs": []
    },
    {
      "cell_type": "code",
      "metadata": {
        "id": "nU4TgGNuFsiy",
        "colab_type": "code",
        "colab": {}
      },
      "source": [
        "plot_vect_model = plot_vectorizer.fit(filtered_df)"
      ],
      "execution_count": 0,
      "outputs": []
    },
    {
      "cell_type": "code",
      "metadata": {
        "id": "ObMHnjOPFsjG",
        "colab_type": "code",
        "colab": {}
      },
      "source": [
        "term_doc_matrix = plot_vect_model.transform(filtered_df)\n",
        "term_doc_matrix_test = plot_vect_model.transform(filtered_df_test)"
      ],
      "execution_count": 0,
      "outputs": []
    },
    {
      "cell_type": "code",
      "metadata": {
        "id": "tNh_UlK4FsjM",
        "colab_type": "code",
        "outputId": "1bc1353f-87eb-4c3d-97b8-ef11a45b8564",
        "colab": {
          "base_uri": "https://localhost:8080/",
          "height": 425
        }
      },
      "source": [
        "term_doc_matrix.printSchema()\n",
        "term_doc_matrix_test.printSchema()"
      ],
      "execution_count": 28,
      "outputs": [
        {
          "output_type": "stream",
          "text": [
            "root\n",
            " |-- movie_id: string (nullable = true)\n",
            " |-- movie_name: string (nullable = true)\n",
            " |-- plot: string (nullable = true)\n",
            " |-- genre: string (nullable = true)\n",
            " |-- genre_array: array (nullable = true)\n",
            " |    |-- element: string (containsNull = true)\n",
            " |-- ohe_genre: vector (nullable = true)\n",
            " |-- plot_tokens: array (nullable = true)\n",
            " |    |-- element: string (containsNull = true)\n",
            " |-- filtered_plot: array (nullable = true)\n",
            " |    |-- element: string (containsNull = true)\n",
            " |-- matrix: vector (nullable = true)\n",
            "\n",
            "root\n",
            " |-- movie_id: integer (nullable = true)\n",
            " |-- movie_name: string (nullable = true)\n",
            " |-- plot: string (nullable = true)\n",
            " |-- plot_tokens: array (nullable = true)\n",
            " |    |-- element: string (containsNull = true)\n",
            " |-- filtered_plot: array (nullable = true)\n",
            " |    |-- element: string (containsNull = true)\n",
            " |-- matrix: vector (nullable = true)\n",
            "\n"
          ],
          "name": "stdout"
        }
      ]
    },
    {
      "cell_type": "code",
      "metadata": {
        "id": "n-VxubNUFsja",
        "colab_type": "code",
        "outputId": "5183f1ea-d99a-4999-fc77-d6a1b8d5fbe0",
        "colab": {
          "base_uri": "https://localhost:8080/",
          "height": 34
        }
      },
      "source": [
        "term_doc_matrix1 = term_doc_matrix.selectExpr(\"movie_id\",\"matrix as features\", \"ohe_genre as label\")\n",
        "term_doc_matrix_test1 = term_doc_matrix_test.selectExpr(\"movie_id\",\"matrix as features\")\n",
        "term_doc_matrix1.count()"
      ],
      "execution_count": 29,
      "outputs": [
        {
          "output_type": "execute_result",
          "data": {
            "text/plain": [
              "31109"
            ]
          },
          "metadata": {
            "tags": []
          },
          "execution_count": 29
        }
      ]
    },
    {
      "cell_type": "code",
      "metadata": {
        "id": "HeD8J3TQFsjt",
        "colab_type": "code",
        "outputId": "1cf295f7-ec30-4115-c03d-993064a5453c",
        "colab": {
          "base_uri": "https://localhost:8080/",
          "height": 170
        }
      },
      "source": [
        "# term_doc_matrix.printSchema()\n",
        "# lr = LogisticRegression(maxIter=20, regParam=0.3, elasticNetParam=0, family=\"multinomial\")\n",
        "# ovr = OneVsRest(classifier=lr)\n",
        "# lrModel = ovr.fit(term_doc_matrix1)\n",
        "term_doc_matrix1.printSchema()\n",
        "term_doc_matrix_test1.printSchema()"
      ],
      "execution_count": 30,
      "outputs": [
        {
          "output_type": "stream",
          "text": [
            "root\n",
            " |-- movie_id: string (nullable = true)\n",
            " |-- features: vector (nullable = true)\n",
            " |-- label: vector (nullable = true)\n",
            "\n",
            "root\n",
            " |-- movie_id: integer (nullable = true)\n",
            " |-- features: vector (nullable = true)\n",
            "\n"
          ],
          "name": "stdout"
        }
      ]
    },
    {
      "cell_type": "code",
      "metadata": {
        "id": "rFqjfs8mFsj4",
        "colab_type": "code",
        "outputId": "c2d67143-dd69-454f-f2e0-3ee288720ba1",
        "colab": {
          "base_uri": "https://localhost:8080/",
          "height": 34
        }
      },
      "source": [
        "term_doc_matrix1.select(\"label\").head(1)"
      ],
      "execution_count": 31,
      "outputs": [
        {
          "output_type": "execute_result",
          "data": {
            "text/plain": [
              "[Row(label=SparseVector(20, {0: 1.0, 5: 1.0}))]"
            ]
          },
          "metadata": {
            "tags": []
          },
          "execution_count": 31
        }
      ]
    },
    {
      "cell_type": "code",
      "metadata": {
        "id": "toXrIdSGFskE",
        "colab_type": "code",
        "outputId": "e4caa785-e0ef-42af-c8de-5338c091a35c",
        "colab": {
          "base_uri": "https://localhost:8080/",
          "height": 459
        }
      },
      "source": [
        "term_doc_matrix1.show()"
      ],
      "execution_count": 32,
      "outputs": [
        {
          "output_type": "stream",
          "text": [
            "+--------+--------------------+--------------------+\n",
            "|movie_id|            features|               label|\n",
            "+--------+--------------------+--------------------+\n",
            "|23890098|(10000,[125,179,4...|(20,[0,5],[1.0,1.0])|\n",
            "|31186339|(10000,[2,4,7,11,...|(20,[0,4,10,17],[...|\n",
            "|20663735|(10000,[1,5,9,11,...|(20,[0,4,16],[1.0...|\n",
            "| 2231378|(10000,[7,8,12,14...|      (20,[1],[1.0])|\n",
            "|  595909|(10000,[2,8,9,14,...|(20,[0,5,6],[1.0,...|\n",
            "| 5272176|(10000,[2,3,6,12,...|(20,[0,3,4,10],[1...|\n",
            "| 1952976|(10000,[0,1,2,3,4...|(20,[0,3,7],[1.0,...|\n",
            "|24225279|(10000,[0,1,2,6,7...|      (20,[0],[1.0])|\n",
            "| 2462689|(10000,[0,3,8,16,...|(20,[0,1,2,8,19],...|\n",
            "|20532852|(10000,[10,30,37,...|(20,[12,13,15],[1...|\n",
            "|15401493|(10000,[1,3,5,7,8...|      (20,[1],[1.0])|\n",
            "|18188932|(10000,[0,2,19,33...|(20,[0,1,5,6],[1....|\n",
            "| 2940516|(10000,[3,6,14,16...|      (20,[1],[1.0])|\n",
            "| 1480747|(10000,[0,1,2,4,5...|      (20,[1],[1.0])|\n",
            "|24448645|(10000,[0,9,54,72...|      (20,[7],[1.0])|\n",
            "|15072401|(10000,[6,19,60,8...|(20,[3,6,7,18],[1...|\n",
            "| 4018288|(10000,[2,7,21,23...|      (20,[0],[1.0])|\n",
            "| 4596602|(10000,[0,2,3,9,1...|(20,[2,3,4,6,9],[...|\n",
            "|15224586|(10000,[1,2,3,11,...|(20,[0,9],[1.0,1.0])|\n",
            "|15585766|(10000,[0,8,11,38...|      (20,[0],[1.0])|\n",
            "+--------+--------------------+--------------------+\n",
            "only showing top 20 rows\n",
            "\n"
          ],
          "name": "stdout"
        }
      ]
    },
    {
      "cell_type": "code",
      "metadata": {
        "id": "dZTg1DPfFskT",
        "colab_type": "code",
        "colab": {}
      },
      "source": [
        "lrModels = []\n",
        "for i in range(20):\n",
        "    firstElement = f.udf(lambda v: float(v[i]), FloatType())\n",
        "\n",
        "    new_df = term_doc_matrix1.withColumn(\"label\", firstElement(\"label\"))\n",
        "    lr = LogisticRegression(maxIter=100, regParam=0.3, elasticNetParam=0)\n",
        "    lrModel = lr.fit(new_df)\n",
        "    lrModels.append(lrModel)"
      ],
      "execution_count": 0,
      "outputs": []
    },
    {
      "cell_type": "code",
      "metadata": {
        "id": "LtuHUSqBFskq",
        "colab_type": "code",
        "colab": {}
      },
      "source": [
        "# for i in lrModels:\n",
        "#     trainingSummary = i.summary\n",
        "#     print(trainingSummary.accuracy)"
      ],
      "execution_count": 0,
      "outputs": []
    },
    {
      "cell_type": "code",
      "metadata": {
        "id": "5jTQ_tjCFsk0",
        "colab_type": "code",
        "colab": {}
      },
      "source": [
        "predictions = []\n",
        "for i in range(len(lrModels)):\n",
        "    predicted = lrModels[i].transform(term_doc_matrix_test1)\n",
        "    predicted = predicted.withColumn(\"prediction\", predicted[\"prediction\"].cast(IntegerType()))\n",
        "    predictions.append(predicted)"
      ],
      "execution_count": 0,
      "outputs": []
    },
    {
      "cell_type": "code",
      "metadata": {
        "id": "l_HKKmC5FslD",
        "colab_type": "code",
        "outputId": "395309c9-002c-48d1-a319-fa048a1cd67f",
        "colab": {
          "base_uri": "https://localhost:8080/",
          "height": 34
        }
      },
      "source": [
        "predictions[0].where(f.col(\"prediction\") == 1.0).count()"
      ],
      "execution_count": 36,
      "outputs": [
        {
          "output_type": "execute_result",
          "data": {
            "text/plain": [
              "3757"
            ]
          },
          "metadata": {
            "tags": []
          },
          "execution_count": 36
        }
      ]
    },
    {
      "cell_type": "code",
      "metadata": {
        "id": "xKbyQk9-FslQ",
        "colab_type": "code",
        "outputId": "0a7703e9-d9d9-4cd1-a8a2-fa033a00d915",
        "colab": {
          "base_uri": "https://localhost:8080/",
          "height": 136
        }
      },
      "source": [
        "predictions[0].printSchema()"
      ],
      "execution_count": 37,
      "outputs": [
        {
          "output_type": "stream",
          "text": [
            "root\n",
            " |-- movie_id: integer (nullable = true)\n",
            " |-- features: vector (nullable = true)\n",
            " |-- rawPrediction: vector (nullable = true)\n",
            " |-- probability: vector (nullable = true)\n",
            " |-- prediction: integer (nullable = true)\n",
            "\n"
          ],
          "name": "stdout"
        }
      ]
    },
    {
      "cell_type": "code",
      "metadata": {
        "id": "SStZCABYFslb",
        "colab_type": "code",
        "colab": {}
      },
      "source": [
        "final_df = predictions[0].selectExpr(\"movie_id\",\"prediction as predictions\")\n",
        "for i in range(1,len(predictions)):\n",
        "    final_df = final_df.join(predictions[i].selectExpr(\"movie_id\",\"prediction as prediction\"+str(i)), [\"movie_id\"])\n",
        "    final_df = final_df.withColumn(\"predictions\", f.concat(f.col(\"predictions\"), f.lit(\" \"), f.col(\"prediction\"+str(i)))).select(\"movie_id\",\"predictions\")\n",
        "# temp = predictions[0].selectExpr(\"features\",\"prediction as prediction0\").join(predictions[1].selectExpr(\"features\",\"prediction as prediction1\"), [\"features\"])"
      ],
      "execution_count": 0,
      "outputs": []
    },
    {
      "cell_type": "code",
      "metadata": {
        "id": "qeZo8NIXFslo",
        "colab_type": "code",
        "outputId": "11b59a2a-94e8-4dab-8510-93b553cb1ee5",
        "colab": {
          "base_uri": "https://localhost:8080/",
          "height": 102
        }
      },
      "source": [
        "final_df.printSchema()\n",
        "final_df.count()"
      ],
      "execution_count": 39,
      "outputs": [
        {
          "output_type": "stream",
          "text": [
            "root\n",
            " |-- movie_id: integer (nullable = true)\n",
            " |-- predictions: string (nullable = true)\n",
            "\n"
          ],
          "name": "stdout"
        },
        {
          "output_type": "execute_result",
          "data": {
            "text/plain": [
              "7777"
            ]
          },
          "metadata": {
            "tags": []
          },
          "execution_count": 39
        }
      ]
    },
    {
      "cell_type": "code",
      "metadata": {
        "id": "wv13LanvFsly",
        "colab_type": "code",
        "outputId": "d1900be3-01fb-4cf6-87da-ebd714e67340",
        "colab": {
          "base_uri": "https://localhost:8080/",
          "height": 34
        }
      },
      "source": [
        "final_df.head(1)"
      ],
      "execution_count": 40,
      "outputs": [
        {
          "output_type": "execute_result",
          "data": {
            "text/plain": [
              "[Row(movie_id=1335380, predictions='1 0 0 0 0 0 0 0 0 0 0 0 0 0 0 0 0 0 0 0')]"
            ]
          },
          "metadata": {
            "tags": []
          },
          "execution_count": 40
        }
      ]
    },
    {
      "cell_type": "code",
      "metadata": {
        "id": "aetw-pfdFsmM",
        "colab_type": "code",
        "colab": {}
      },
      "source": [
        "final_df.toPandas().to_csv(\"pred1.csv\",index = False)"
      ],
      "execution_count": 0,
      "outputs": []
    },
    {
      "cell_type": "code",
      "metadata": {
        "id": "qNTMtIHfKiE2",
        "colab_type": "code",
        "colab": {}
      },
      "source": [
        ""
      ],
      "execution_count": 0,
      "outputs": []
    }
  ]
}